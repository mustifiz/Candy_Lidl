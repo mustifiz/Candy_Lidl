{
 "cells": [
  {
   "cell_type": "code",
   "execution_count": 1,
   "metadata": {},
   "outputs": [],
   "source": [
    "import pandas as pd\n",
    "import numpy as np\n",
    "import matplotlib.pyplot as plt\n",
    "import seaborn as sns\n",
    "from sklearn.model_selection import train_test_split\n",
    "from sklearn.linear_model import LinearRegression\n",
    "from sklearn.ensemble import RandomForestRegressor\n",
    "from sklearn.metrics import mean_squared_error, r2_score"
   ]
  },
  {
   "cell_type": "code",
   "execution_count": 2,
   "metadata": {},
   "outputs": [],
   "source": [
    "# Laden Sie die Daten\n",
    "df = pd.read_csv('candy-data.csv')"
   ]
  },
  {
   "cell_type": "markdown",
   "metadata": {},
   "source": [
    "## Explorative Datenanalyse"
   ]
  },
  {
   "cell_type": "code",
   "execution_count": 3,
   "metadata": {},
   "outputs": [
    {
     "name": "stdout",
     "output_type": "stream",
     "text": [
      "  competitorname  chocolate  fruity  caramel  peanutyalmondy  nougat  \\\n",
      "0      100 Grand          1       0        1               0       0   \n",
      "1   3 Musketeers          1       0        0               0       1   \n",
      "2       One dime          0       0        0               0       0   \n",
      "3    One quarter          0       0        0               0       0   \n",
      "4      Air Heads          0       1        0               0       0   \n",
      "\n",
      "   crispedricewafer  hard  bar  pluribus  sugarpercent  pricepercent  \\\n",
      "0                 1     0    1         0         0.732         0.860   \n",
      "1                 0     0    1         0         0.604         0.511   \n",
      "2                 0     0    0         0         0.011         0.116   \n",
      "3                 0     0    0         0         0.011         0.511   \n",
      "4                 0     0    0         0         0.906         0.511   \n",
      "\n",
      "   winpercent  \n",
      "0   66.971725  \n",
      "1   67.602936  \n",
      "2   32.261086  \n",
      "3   46.116505  \n",
      "4   52.341465  \n",
      "Dataset Info:\n",
      "<class 'pandas.core.frame.DataFrame'>\n",
      "RangeIndex: 85 entries, 0 to 84\n",
      "Data columns (total 13 columns):\n",
      " #   Column            Non-Null Count  Dtype  \n",
      "---  ------            --------------  -----  \n",
      " 0   competitorname    85 non-null     object \n",
      " 1   chocolate         85 non-null     int64  \n",
      " 2   fruity            85 non-null     int64  \n",
      " 3   caramel           85 non-null     int64  \n",
      " 4   peanutyalmondy    85 non-null     int64  \n",
      " 5   nougat            85 non-null     int64  \n",
      " 6   crispedricewafer  85 non-null     int64  \n",
      " 7   hard              85 non-null     int64  \n",
      " 8   bar               85 non-null     int64  \n",
      " 9   pluribus          85 non-null     int64  \n",
      " 10  sugarpercent      85 non-null     float64\n",
      " 11  pricepercent      85 non-null     float64\n",
      " 12  winpercent        85 non-null     float64\n",
      "dtypes: float64(3), int64(9), object(1)\n",
      "memory usage: 8.8+ KB\n",
      "None\n"
     ]
    }
   ],
   "source": [
    "# Die ersten Zeilen und Basisinformationen anzeigen\n",
    "print(df.head())\n",
    "print(\"\\\n",
    "Dataset Info:\")\n",
    "print(df.info())"
   ]
  },
  {
   "cell_type": "code",
   "execution_count": 8,
   "metadata": {},
   "outputs": [
    {
     "name": "stdout",
     "output_type": "stream",
     "text": [
      "Missing Values:\n",
      "competitorname      0\n",
      "chocolate           0\n",
      "fruity              0\n",
      "caramel             0\n",
      "peanutyalmondy      0\n",
      "nougat              0\n",
      "crispedricewafer    0\n",
      "hard                0\n",
      "bar                 0\n",
      "pluribus            0\n",
      "sugarpercent        0\n",
      "pricepercent        0\n",
      "winpercent          0\n",
      "dtype: int64\n"
     ]
    }
   ],
   "source": [
    "# Auf fehlende Werte prüfen\n",
    "print(\"\\\n",
    "Missing Values:\")\n",
    "print(df.isnull().sum())"
   ]
  },
  {
   "cell_type": "markdown",
   "metadata": {},
   "source": [
    "Die meisten Spalten (oder Merkmale, Variablen) sind binär und geben das Vorhandensein oder Fehlen bestimmter Geschmackseigenschaften an. Es gibt keine fehlenden Werte, sodass keine weitere Datenbereinigung erforderlich ist.\n",
    "\n",
    "Durch Sortieren der Süßigkeiten nach ihrem 'winpercent' werden die am besten bewerteten Süßigkeiten in absteigender Reihenfolge angezeigt."
   ]
  },
  {
   "cell_type": "code",
   "execution_count": 23,
   "metadata": {},
   "outputs": [
    {
     "data": {
      "text/html": [
       "<div>\n",
       "<style scoped>\n",
       "    .dataframe tbody tr th:only-of-type {\n",
       "        vertical-align: middle;\n",
       "    }\n",
       "\n",
       "    .dataframe tbody tr th {\n",
       "        vertical-align: top;\n",
       "    }\n",
       "\n",
       "    .dataframe thead th {\n",
       "        text-align: right;\n",
       "    }\n",
       "</style>\n",
       "<table border=\"1\" class=\"dataframe\">\n",
       "  <thead>\n",
       "    <tr style=\"text-align: right;\">\n",
       "      <th></th>\n",
       "      <th>competitorname</th>\n",
       "      <th>chocolate</th>\n",
       "      <th>fruity</th>\n",
       "      <th>caramel</th>\n",
       "      <th>peanutyalmondy</th>\n",
       "      <th>nougat</th>\n",
       "      <th>crispedricewafer</th>\n",
       "      <th>hard</th>\n",
       "      <th>bar</th>\n",
       "      <th>pluribus</th>\n",
       "      <th>sugarpercent</th>\n",
       "      <th>pricepercent</th>\n",
       "      <th>winpercent</th>\n",
       "    </tr>\n",
       "  </thead>\n",
       "  <tbody>\n",
       "    <tr>\n",
       "      <th>52</th>\n",
       "      <td>Reese's Peanut Butter cup</td>\n",
       "      <td>1</td>\n",
       "      <td>0</td>\n",
       "      <td>0</td>\n",
       "      <td>1</td>\n",
       "      <td>0</td>\n",
       "      <td>0</td>\n",
       "      <td>0</td>\n",
       "      <td>0</td>\n",
       "      <td>0</td>\n",
       "      <td>0.720</td>\n",
       "      <td>0.651</td>\n",
       "      <td>84.180290</td>\n",
       "    </tr>\n",
       "    <tr>\n",
       "      <th>51</th>\n",
       "      <td>Reese's Miniatures</td>\n",
       "      <td>1</td>\n",
       "      <td>0</td>\n",
       "      <td>0</td>\n",
       "      <td>1</td>\n",
       "      <td>0</td>\n",
       "      <td>0</td>\n",
       "      <td>0</td>\n",
       "      <td>0</td>\n",
       "      <td>0</td>\n",
       "      <td>0.034</td>\n",
       "      <td>0.279</td>\n",
       "      <td>81.866257</td>\n",
       "    </tr>\n",
       "    <tr>\n",
       "      <th>79</th>\n",
       "      <td>Twix</td>\n",
       "      <td>1</td>\n",
       "      <td>0</td>\n",
       "      <td>1</td>\n",
       "      <td>0</td>\n",
       "      <td>0</td>\n",
       "      <td>1</td>\n",
       "      <td>0</td>\n",
       "      <td>1</td>\n",
       "      <td>0</td>\n",
       "      <td>0.546</td>\n",
       "      <td>0.906</td>\n",
       "      <td>81.642914</td>\n",
       "    </tr>\n",
       "    <tr>\n",
       "      <th>28</th>\n",
       "      <td>Kit Kat</td>\n",
       "      <td>1</td>\n",
       "      <td>0</td>\n",
       "      <td>0</td>\n",
       "      <td>0</td>\n",
       "      <td>0</td>\n",
       "      <td>1</td>\n",
       "      <td>0</td>\n",
       "      <td>1</td>\n",
       "      <td>0</td>\n",
       "      <td>0.313</td>\n",
       "      <td>0.511</td>\n",
       "      <td>76.768600</td>\n",
       "    </tr>\n",
       "    <tr>\n",
       "      <th>64</th>\n",
       "      <td>Snickers</td>\n",
       "      <td>1</td>\n",
       "      <td>0</td>\n",
       "      <td>1</td>\n",
       "      <td>1</td>\n",
       "      <td>1</td>\n",
       "      <td>0</td>\n",
       "      <td>0</td>\n",
       "      <td>1</td>\n",
       "      <td>0</td>\n",
       "      <td>0.546</td>\n",
       "      <td>0.651</td>\n",
       "      <td>76.673782</td>\n",
       "    </tr>\n",
       "  </tbody>\n",
       "</table>\n",
       "</div>"
      ],
      "text/plain": [
       "               competitorname  chocolate  fruity  caramel  peanutyalmondy  \\\n",
       "52  Reese's Peanut Butter cup          1       0        0               1   \n",
       "51         Reese's Miniatures          1       0        0               1   \n",
       "79                       Twix          1       0        1               0   \n",
       "28                    Kit Kat          1       0        0               0   \n",
       "64                   Snickers          1       0        1               1   \n",
       "\n",
       "    nougat  crispedricewafer  hard  bar  pluribus  sugarpercent  pricepercent  \\\n",
       "52       0                 0     0    0         0         0.720         0.651   \n",
       "51       0                 0     0    0         0         0.034         0.279   \n",
       "79       0                 1     0    1         0         0.546         0.906   \n",
       "28       0                 1     0    1         0         0.313         0.511   \n",
       "64       1                 0     0    1         0         0.546         0.651   \n",
       "\n",
       "    winpercent  \n",
       "52   84.180290  \n",
       "51   81.866257  \n",
       "79   81.642914  \n",
       "28   76.768600  \n",
       "64   76.673782  "
      ]
     },
     "execution_count": 23,
     "metadata": {},
     "output_type": "execute_result"
    }
   ],
   "source": [
    "df.sort_values(\"winpercent\", ascending=False).head(5)"
   ]
  },
  {
   "cell_type": "code",
   "execution_count": 4,
   "metadata": {},
   "outputs": [
    {
     "name": "stdout",
     "output_type": "stream",
     "text": [
      "Summary Statistics:\n",
      "       chocolate     fruity    caramel  peanutyalmondy     nougat  \\\n",
      "count  85.000000  85.000000  85.000000       85.000000  85.000000   \n",
      "mean    0.435294   0.447059   0.164706        0.164706   0.082353   \n",
      "std     0.498738   0.500140   0.373116        0.373116   0.276533   \n",
      "min     0.000000   0.000000   0.000000        0.000000   0.000000   \n",
      "25%     0.000000   0.000000   0.000000        0.000000   0.000000   \n",
      "50%     0.000000   0.000000   0.000000        0.000000   0.000000   \n",
      "75%     1.000000   1.000000   0.000000        0.000000   0.000000   \n",
      "max     1.000000   1.000000   1.000000        1.000000   1.000000   \n",
      "\n",
      "       crispedricewafer       hard        bar   pluribus  sugarpercent  \\\n",
      "count         85.000000  85.000000  85.000000  85.000000     85.000000   \n",
      "mean           0.082353   0.176471   0.247059   0.517647      0.478647   \n",
      "std            0.276533   0.383482   0.433861   0.502654      0.282778   \n",
      "min            0.000000   0.000000   0.000000   0.000000      0.011000   \n",
      "25%            0.000000   0.000000   0.000000   0.000000      0.220000   \n",
      "50%            0.000000   0.000000   0.000000   1.000000      0.465000   \n",
      "75%            0.000000   0.000000   0.000000   1.000000      0.732000   \n",
      "max            1.000000   1.000000   1.000000   1.000000      0.988000   \n",
      "\n",
      "       pricepercent  winpercent  \n",
      "count     85.000000   85.000000  \n",
      "mean       0.468882   50.316764  \n",
      "std        0.285740   14.714357  \n",
      "min        0.011000   22.445341  \n",
      "25%        0.255000   39.141056  \n",
      "50%        0.465000   47.829754  \n",
      "75%        0.651000   59.863998  \n",
      "max        0.976000   84.180290  \n"
     ]
    }
   ],
   "source": [
    "# Zusammenfassende Statistiken anzeigen\n",
    "print(\"\\\n",
    "Summary Statistics:\")\n",
    "print(df.describe())"
   ]
  },
  {
   "cell_type": "code",
   "execution_count": 7,
   "metadata": {},
   "outputs": [
    {
     "data": {
      "text/html": [
       "<div>\n",
       "<style scoped>\n",
       "    .dataframe tbody tr th:only-of-type {\n",
       "        vertical-align: middle;\n",
       "    }\n",
       "\n",
       "    .dataframe tbody tr th {\n",
       "        vertical-align: top;\n",
       "    }\n",
       "\n",
       "    .dataframe thead th {\n",
       "        text-align: right;\n",
       "    }\n",
       "</style>\n",
       "<table border=\"1\" class=\"dataframe\">\n",
       "  <thead>\n",
       "    <tr style=\"text-align: right;\">\n",
       "      <th></th>\n",
       "      <th>count</th>\n",
       "      <th>mean</th>\n",
       "      <th>std</th>\n",
       "      <th>min</th>\n",
       "      <th>25%</th>\n",
       "      <th>50%</th>\n",
       "      <th>75%</th>\n",
       "      <th>max</th>\n",
       "    </tr>\n",
       "  </thead>\n",
       "  <tbody>\n",
       "    <tr>\n",
       "      <th>chocolate</th>\n",
       "      <td>85.0</td>\n",
       "      <td>0.435294</td>\n",
       "      <td>0.498738</td>\n",
       "      <td>0.000000</td>\n",
       "      <td>0.000000</td>\n",
       "      <td>0.000000</td>\n",
       "      <td>1.000000</td>\n",
       "      <td>1.00000</td>\n",
       "    </tr>\n",
       "    <tr>\n",
       "      <th>fruity</th>\n",
       "      <td>85.0</td>\n",
       "      <td>0.447059</td>\n",
       "      <td>0.500140</td>\n",
       "      <td>0.000000</td>\n",
       "      <td>0.000000</td>\n",
       "      <td>0.000000</td>\n",
       "      <td>1.000000</td>\n",
       "      <td>1.00000</td>\n",
       "    </tr>\n",
       "    <tr>\n",
       "      <th>caramel</th>\n",
       "      <td>85.0</td>\n",
       "      <td>0.164706</td>\n",
       "      <td>0.373116</td>\n",
       "      <td>0.000000</td>\n",
       "      <td>0.000000</td>\n",
       "      <td>0.000000</td>\n",
       "      <td>0.000000</td>\n",
       "      <td>1.00000</td>\n",
       "    </tr>\n",
       "    <tr>\n",
       "      <th>peanutyalmondy</th>\n",
       "      <td>85.0</td>\n",
       "      <td>0.164706</td>\n",
       "      <td>0.373116</td>\n",
       "      <td>0.000000</td>\n",
       "      <td>0.000000</td>\n",
       "      <td>0.000000</td>\n",
       "      <td>0.000000</td>\n",
       "      <td>1.00000</td>\n",
       "    </tr>\n",
       "    <tr>\n",
       "      <th>nougat</th>\n",
       "      <td>85.0</td>\n",
       "      <td>0.082353</td>\n",
       "      <td>0.276533</td>\n",
       "      <td>0.000000</td>\n",
       "      <td>0.000000</td>\n",
       "      <td>0.000000</td>\n",
       "      <td>0.000000</td>\n",
       "      <td>1.00000</td>\n",
       "    </tr>\n",
       "    <tr>\n",
       "      <th>crispedricewafer</th>\n",
       "      <td>85.0</td>\n",
       "      <td>0.082353</td>\n",
       "      <td>0.276533</td>\n",
       "      <td>0.000000</td>\n",
       "      <td>0.000000</td>\n",
       "      <td>0.000000</td>\n",
       "      <td>0.000000</td>\n",
       "      <td>1.00000</td>\n",
       "    </tr>\n",
       "    <tr>\n",
       "      <th>hard</th>\n",
       "      <td>85.0</td>\n",
       "      <td>0.176471</td>\n",
       "      <td>0.383482</td>\n",
       "      <td>0.000000</td>\n",
       "      <td>0.000000</td>\n",
       "      <td>0.000000</td>\n",
       "      <td>0.000000</td>\n",
       "      <td>1.00000</td>\n",
       "    </tr>\n",
       "    <tr>\n",
       "      <th>bar</th>\n",
       "      <td>85.0</td>\n",
       "      <td>0.247059</td>\n",
       "      <td>0.433861</td>\n",
       "      <td>0.000000</td>\n",
       "      <td>0.000000</td>\n",
       "      <td>0.000000</td>\n",
       "      <td>0.000000</td>\n",
       "      <td>1.00000</td>\n",
       "    </tr>\n",
       "    <tr>\n",
       "      <th>pluribus</th>\n",
       "      <td>85.0</td>\n",
       "      <td>0.517647</td>\n",
       "      <td>0.502654</td>\n",
       "      <td>0.000000</td>\n",
       "      <td>0.000000</td>\n",
       "      <td>1.000000</td>\n",
       "      <td>1.000000</td>\n",
       "      <td>1.00000</td>\n",
       "    </tr>\n",
       "    <tr>\n",
       "      <th>sugarpercent</th>\n",
       "      <td>85.0</td>\n",
       "      <td>0.478647</td>\n",
       "      <td>0.282778</td>\n",
       "      <td>0.011000</td>\n",
       "      <td>0.220000</td>\n",
       "      <td>0.465000</td>\n",
       "      <td>0.732000</td>\n",
       "      <td>0.98800</td>\n",
       "    </tr>\n",
       "    <tr>\n",
       "      <th>pricepercent</th>\n",
       "      <td>85.0</td>\n",
       "      <td>0.468882</td>\n",
       "      <td>0.285740</td>\n",
       "      <td>0.011000</td>\n",
       "      <td>0.255000</td>\n",
       "      <td>0.465000</td>\n",
       "      <td>0.651000</td>\n",
       "      <td>0.97600</td>\n",
       "    </tr>\n",
       "    <tr>\n",
       "      <th>winpercent</th>\n",
       "      <td>85.0</td>\n",
       "      <td>50.316764</td>\n",
       "      <td>14.714357</td>\n",
       "      <td>22.445341</td>\n",
       "      <td>39.141056</td>\n",
       "      <td>47.829754</td>\n",
       "      <td>59.863998</td>\n",
       "      <td>84.18029</td>\n",
       "    </tr>\n",
       "  </tbody>\n",
       "</table>\n",
       "</div>"
      ],
      "text/plain": [
       "                  count       mean        std        min        25%  \\\n",
       "chocolate          85.0   0.435294   0.498738   0.000000   0.000000   \n",
       "fruity             85.0   0.447059   0.500140   0.000000   0.000000   \n",
       "caramel            85.0   0.164706   0.373116   0.000000   0.000000   \n",
       "peanutyalmondy     85.0   0.164706   0.373116   0.000000   0.000000   \n",
       "nougat             85.0   0.082353   0.276533   0.000000   0.000000   \n",
       "crispedricewafer   85.0   0.082353   0.276533   0.000000   0.000000   \n",
       "hard               85.0   0.176471   0.383482   0.000000   0.000000   \n",
       "bar                85.0   0.247059   0.433861   0.000000   0.000000   \n",
       "pluribus           85.0   0.517647   0.502654   0.000000   0.000000   \n",
       "sugarpercent       85.0   0.478647   0.282778   0.011000   0.220000   \n",
       "pricepercent       85.0   0.468882   0.285740   0.011000   0.255000   \n",
       "winpercent         85.0  50.316764  14.714357  22.445341  39.141056   \n",
       "\n",
       "                        50%        75%       max  \n",
       "chocolate          0.000000   1.000000   1.00000  \n",
       "fruity             0.000000   1.000000   1.00000  \n",
       "caramel            0.000000   0.000000   1.00000  \n",
       "peanutyalmondy     0.000000   0.000000   1.00000  \n",
       "nougat             0.000000   0.000000   1.00000  \n",
       "crispedricewafer   0.000000   0.000000   1.00000  \n",
       "hard               0.000000   0.000000   1.00000  \n",
       "bar                0.000000   0.000000   1.00000  \n",
       "pluribus           1.000000   1.000000   1.00000  \n",
       "sugarpercent       0.465000   0.732000   0.98800  \n",
       "pricepercent       0.465000   0.651000   0.97600  \n",
       "winpercent        47.829754  59.863998  84.18029  "
      ]
     },
     "execution_count": 7,
     "metadata": {},
     "output_type": "execute_result"
    }
   ],
   "source": [
    "df.describe().T"
   ]
  },
  {
   "cell_type": "markdown",
   "metadata": {},
   "source": [
    "## Produktanalyse-Korrelation"
   ]
  },
  {
   "cell_type": "code",
   "execution_count": 5,
   "metadata": {},
   "outputs": [
    {
     "data": {
      "image/png": "[encoded data removed]",
      "text/plain": [
       "<Figure size 1200x1000 with 2 Axes>"
      ]
     },
     "metadata": {},
     "output_type": "display_data"
    },
    {
     "name": "stdout",
     "output_type": "stream",
     "text": [
      "Correlation matrix has been saved as 'correlation_heatmap.png'\n",
      "Correlations with Win Percentage:\n",
      "winpercent          1.000000\n",
      "chocolate           0.636517\n",
      "bar                 0.429929\n",
      "peanutyalmondy      0.406192\n",
      "pricepercent        0.345325\n",
      "crispedricewafer    0.324680\n",
      "sugarpercent        0.229151\n",
      "caramel             0.213416\n",
      "nougat              0.199375\n",
      "pluribus           -0.247448\n",
      "hard               -0.310382\n",
      "fruity             -0.380938\n",
      "Name: winpercent, dtype: float64\n"
     ]
    }
   ],
   "source": [
    "# Korrelationsmatrix erstellen\n",
    "corr_matrix = df.drop('competitorname', axis=1).corr()\n",
    "\n",
    "# Erstellen Sie eine Heatmap der Korrelationsmatrix\n",
    "plt.figure(figsize=(12, 10))\n",
    "sns.heatmap(corr_matrix, annot=True, cmap='coolwarm', vmin=-1, vmax=1, center=0)\n",
    "plt.title('Correlation Matrix of Candy Characteristics')\n",
    "plt.tight_layout()\n",
    "plt.savefig('correlation_heatmap.png')\n",
    "plt.show()\n",
    "\n",
    "print(\"Correlation matrix has been saved as 'correlation_heatmap.png'\")\n",
    "\n",
    "# Korrelationen mit Winpercent anzeigen\n",
    "win_corr = corr_matrix['winpercent'].sort_values(ascending=False)\n",
    "print(\"\\\n",
    "Correlations with Win Percentage:\")\n",
    "print(win_corr)"
   ]
  },
  {
   "cell_type": "markdown",
   "metadata": {},
   "source": [
    "## Erkenntnisse auf den ersten Blick\n",
    "\n",
    "- **Schokolade** weist die stärkste positive Korrelation (**0,64**) mit der Beliebtheit auf.\n",
    "\n",
    "- **Riegelformat** (**0,43**) und **Erdnuss-/Mandelgehalt** (**0,41**) weisen ebenfalls moderate positive Korrelationen auf.\n",
    "\n",
    "- **Preisprozentsatz** (**0,35**) und **knusprige Reiswaffeln** (**0,32**) weisen schwache bis moderate positive Korrelationen auf.\n",
    "\n",
    "- **Fruchtig** (**-0,38**) und **Hartbonbons** (**-0,31**) weisen moderate negative Korrelationen mit der Beliebtheit auf.\n",
    "\n",
    "\n",
    "- Wenn ein Bonbon „fruchtig“ ist, ist es normalerweise nicht „Schokolade“, „Karamell“, „Erdnuss-Mandel“, „Nougat“, „Knusper-Reiswaffel“, „Riegel“.\n",
    "- Wenn ein Bonbon ein „Riegel“ ist, ist es normalerweise nicht einer von vielen in einer Tüte oder Schachtel („Pluribus“).\n",
    "- Der „Gewinnprozentsatz“ korreliert mit „Schokolade“ und ist antikorreliert mit „fruchtig“.\n",
    "- Der „Zuckerprozentsatz“ zeigt wenig Korrelation mit irgendwelchen Merkmalen (abgesehen von „Preisprozentsatz“ und „Gewinnprozentsatz“).\n",
    "- „Fruchtige“, „harte“ und „Pluribus“-Bonbons zeigen im Allgemeinen einen niedrigen „Gewinnprozentsatz“.\n",
    "\n",
    "\n",
    "\n"
   ]
  },
  {
   "cell_type": "markdown",
   "metadata": {},
   "source": [
    "### Ich wollte fortfahren und zwei Methoden wählen, um das beste Verhältnis für diese Studie zu finden."
   ]
  },
  {
   "cell_type": "markdown",
   "metadata": {},
   "source": [
    "## Vergleich zweier statistischer Methoden"
   ]
  },
  {
   "cell_type": "code",
   "execution_count": 6,
   "metadata": {},
   "outputs": [],
   "source": [
    "# # Daten vorbereiten\n",
    "X = df.drop(['competitorname', 'winpercent'], axis=1)\n",
    "y = df['winpercent']"
   ]
  },
  {
   "cell_type": "code",
   "execution_count": 7,
   "metadata": {},
   "outputs": [],
   "source": [
    "# Aufteilen der Daten\n",
    "X_train, X_test, y_train, y_test = train_test_split(X, y, test_size=0.2, random_state=42)"
   ]
  },
  {
   "cell_type": "code",
   "execution_count": 8,
   "metadata": {},
   "outputs": [
    {
     "data": {
      "text/plain": [
       "(68, 11)"
      ]
     },
     "execution_count": 8,
     "metadata": {},
     "output_type": "execute_result"
    }
   ],
   "source": [
    "X_train.shape"
   ]
  },
  {
   "cell_type": "code",
   "execution_count": 9,
   "metadata": {},
   "outputs": [
    {
     "data": {
      "text/plain": [
       "(17, 11)"
      ]
     },
     "execution_count": 9,
     "metadata": {},
     "output_type": "execute_result"
    }
   ],
   "source": [
    "X_test.shape"
   ]
  },
  {
   "cell_type": "code",
   "execution_count": 10,
   "metadata": {},
   "outputs": [
    {
     "data": {
      "text/plain": [
       "(68,)"
      ]
     },
     "execution_count": 10,
     "metadata": {},
     "output_type": "execute_result"
    }
   ],
   "source": [
    "y_train.shape"
   ]
  },
  {
   "cell_type": "code",
   "execution_count": 11,
   "metadata": {},
   "outputs": [
    {
     "data": {
      "text/plain": [
       "(17,)"
      ]
     },
     "execution_count": 11,
     "metadata": {},
     "output_type": "execute_result"
    }
   ],
   "source": [
    "y_test.shape"
   ]
  },
  {
   "cell_type": "code",
   "execution_count": 12,
   "metadata": {},
   "outputs": [],
   "source": [
    "# Lineare Regression\n",
    "lr_model = LinearRegression()\n",
    "lr_model.fit(X_train, y_train)\n",
    "lr_pred = lr_model.fit(X_train, y_train).predict(X_test)\n",
    "lr_mse = mean_squared_error(y_test, lr_pred)\n",
    "lr_r2 = r2_score(y_test, lr_pred)"
   ]
  },
  {
   "cell_type": "code",
   "execution_count": 13,
   "metadata": {},
   "outputs": [
    {
     "data": {
      "text/plain": [
       "array([42.1057203 , 67.00810906, 40.64255193, 51.49734157, 39.15244708,\n",
       "       41.8596323 , 62.99202094, 42.72689597, 50.85926701, 40.26802985,\n",
       "       62.61342688, 62.50389937, 51.42432092, 45.13346846, 42.14520535,\n",
       "       70.37380867, 56.07391278])"
      ]
     },
     "execution_count": 13,
     "metadata": {},
     "output_type": "execute_result"
    }
   ],
   "source": [
    "lr_pred"
   ]
  },
  {
   "cell_type": "code",
   "execution_count": 14,
   "metadata": {},
   "outputs": [],
   "source": [
    "# Random Forest Regression\n",
    "rf_model = RandomForestRegressor(n_estimators=100, random_state=42)\n",
    "rf_model.fit(X_train, y_train)\n",
    "rf_pred = rf_model.predict(X_test)\n",
    "rf_mse = mean_squared_error(y_test, rf_pred)\n",
    "rf_r2 = r2_score(y_test, rf_pred)"
   ]
  },
  {
   "cell_type": "code",
   "execution_count": 15,
   "metadata": {},
   "outputs": [
    {
     "data": {
      "text/plain": [
       "array([45.79489696, 67.91131923, 43.34814499, 44.74435207, 44.17892628,\n",
       "       44.86539039, 64.8305722 , 45.58676686, 45.6727179 , 45.66555204,\n",
       "       57.55224632, 72.60648692, 54.72437104, 43.084185  , 30.85497009,\n",
       "       73.41274766, 62.59025067])"
      ]
     },
     "execution_count": 15,
     "metadata": {},
     "output_type": "execute_result"
    }
   ],
   "source": [
    "rf_pred"
   ]
  },
  {
   "cell_type": "code",
   "execution_count": 16,
   "metadata": {},
   "outputs": [
    {
     "name": "stdout",
     "output_type": "stream",
     "text": [
      "Linear Regression Results:\n",
      "Mean Squared Error: 160.9830\n",
      "R-squared Score: 0.1970\n"
     ]
    }
   ],
   "source": [
    "print(\"Linear Regression Results:\")\n",
    "print(f\"Mean Squared Error: {lr_mse:.4f}\")\n",
    "print(f\"R-squared Score: {lr_r2:.4f}\")"
   ]
  },
  {
   "cell_type": "code",
   "execution_count": 17,
   "metadata": {},
   "outputs": [
    {
     "name": "stdout",
     "output_type": "stream",
     "text": [
      "Random Forest Regression Results:\n",
      "Mean Squared Error: 142.0568\n",
      "R-squared Score: 0.2914\n"
     ]
    }
   ],
   "source": [
    "print(\"\\\n",
    "Random Forest Regression Results:\")\n",
    "print(f\"Mean Squared Error: {rf_mse:.4f}\")\n",
    "print(f\"R-squared Score: {rf_r2:.4f}\")"
   ]
  },
  {
   "cell_type": "code",
   "execution_count": 18,
   "metadata": {},
   "outputs": [
    {
     "name": "stdout",
     "output_type": "stream",
     "text": [
      "Random Forest Feature Importance:\n",
      "             feature  importance\n",
      "0          chocolate    0.439130\n",
      "9       sugarpercent    0.186829\n",
      "10      pricepercent    0.154064\n",
      "3     peanutyalmondy    0.058308\n",
      "7                bar    0.046858\n",
      "5   crispedricewafer    0.026651\n",
      "1             fruity    0.026245\n",
      "8           pluribus    0.021285\n",
      "2            caramel    0.020621\n",
      "6               hard    0.011738\n",
      "4             nougat    0.008270\n"
     ]
    }
   ],
   "source": [
    "# Merkmalsbedeutung für Random Forest\n",
    "feature_importance = pd.DataFrame({'feature': X.columns, 'importance': rf_model.feature_importances_})\n",
    "feature_importance = feature_importance.sort_values('importance', ascending=False)\n",
    "print(\"\\\n",
    "Random Forest Feature Importance:\")\n",
    "print(feature_importance)"
   ]
  },
  {
   "cell_type": "code",
   "execution_count": 21,
   "metadata": {},
   "outputs": [
    {
     "data": {
      "text/html": [
       "<div>\n",
       "<style scoped>\n",
       "    .dataframe tbody tr th:only-of-type {\n",
       "        vertical-align: middle;\n",
       "    }\n",
       "\n",
       "    .dataframe tbody tr th {\n",
       "        vertical-align: top;\n",
       "    }\n",
       "\n",
       "    .dataframe thead th {\n",
       "        text-align: right;\n",
       "    }\n",
       "</style>\n",
       "<table border=\"1\" class=\"dataframe\">\n",
       "  <thead>\n",
       "    <tr style=\"text-align: right;\">\n",
       "      <th></th>\n",
       "      <th>competitorname</th>\n",
       "      <th>chocolate</th>\n",
       "      <th>fruity</th>\n",
       "      <th>caramel</th>\n",
       "      <th>peanutyalmondy</th>\n",
       "      <th>nougat</th>\n",
       "      <th>crispedricewafer</th>\n",
       "      <th>hard</th>\n",
       "      <th>bar</th>\n",
       "      <th>pluribus</th>\n",
       "      <th>sugarpercent</th>\n",
       "      <th>pricepercent</th>\n",
       "      <th>winpercent</th>\n",
       "    </tr>\n",
       "  </thead>\n",
       "  <tbody>\n",
       "    <tr>\n",
       "      <th>52</th>\n",
       "      <td>Reese's Peanut Butter cup</td>\n",
       "      <td>1</td>\n",
       "      <td>0</td>\n",
       "      <td>0</td>\n",
       "      <td>1</td>\n",
       "      <td>0</td>\n",
       "      <td>0</td>\n",
       "      <td>0</td>\n",
       "      <td>0</td>\n",
       "      <td>0</td>\n",
       "      <td>0.720</td>\n",
       "      <td>0.651</td>\n",
       "      <td>84.180290</td>\n",
       "    </tr>\n",
       "    <tr>\n",
       "      <th>51</th>\n",
       "      <td>Reese's Miniatures</td>\n",
       "      <td>1</td>\n",
       "      <td>0</td>\n",
       "      <td>0</td>\n",
       "      <td>1</td>\n",
       "      <td>0</td>\n",
       "      <td>0</td>\n",
       "      <td>0</td>\n",
       "      <td>0</td>\n",
       "      <td>0</td>\n",
       "      <td>0.034</td>\n",
       "      <td>0.279</td>\n",
       "      <td>81.866257</td>\n",
       "    </tr>\n",
       "    <tr>\n",
       "      <th>79</th>\n",
       "      <td>Twix</td>\n",
       "      <td>1</td>\n",
       "      <td>0</td>\n",
       "      <td>1</td>\n",
       "      <td>0</td>\n",
       "      <td>0</td>\n",
       "      <td>1</td>\n",
       "      <td>0</td>\n",
       "      <td>1</td>\n",
       "      <td>0</td>\n",
       "      <td>0.546</td>\n",
       "      <td>0.906</td>\n",
       "      <td>81.642914</td>\n",
       "    </tr>\n",
       "    <tr>\n",
       "      <th>28</th>\n",
       "      <td>Kit Kat</td>\n",
       "      <td>1</td>\n",
       "      <td>0</td>\n",
       "      <td>0</td>\n",
       "      <td>0</td>\n",
       "      <td>0</td>\n",
       "      <td>1</td>\n",
       "      <td>0</td>\n",
       "      <td>1</td>\n",
       "      <td>0</td>\n",
       "      <td>0.313</td>\n",
       "      <td>0.511</td>\n",
       "      <td>76.768600</td>\n",
       "    </tr>\n",
       "    <tr>\n",
       "      <th>64</th>\n",
       "      <td>Snickers</td>\n",
       "      <td>1</td>\n",
       "      <td>0</td>\n",
       "      <td>1</td>\n",
       "      <td>1</td>\n",
       "      <td>1</td>\n",
       "      <td>0</td>\n",
       "      <td>0</td>\n",
       "      <td>1</td>\n",
       "      <td>0</td>\n",
       "      <td>0.546</td>\n",
       "      <td>0.651</td>\n",
       "      <td>76.673782</td>\n",
       "    </tr>\n",
       "    <tr>\n",
       "      <th>53</th>\n",
       "      <td>Reese's pieces</td>\n",
       "      <td>1</td>\n",
       "      <td>0</td>\n",
       "      <td>0</td>\n",
       "      <td>1</td>\n",
       "      <td>0</td>\n",
       "      <td>0</td>\n",
       "      <td>0</td>\n",
       "      <td>0</td>\n",
       "      <td>1</td>\n",
       "      <td>0.406</td>\n",
       "      <td>0.651</td>\n",
       "      <td>73.434990</td>\n",
       "    </tr>\n",
       "    <tr>\n",
       "      <th>36</th>\n",
       "      <td>Milky Way</td>\n",
       "      <td>1</td>\n",
       "      <td>0</td>\n",
       "      <td>1</td>\n",
       "      <td>0</td>\n",
       "      <td>1</td>\n",
       "      <td>0</td>\n",
       "      <td>0</td>\n",
       "      <td>1</td>\n",
       "      <td>0</td>\n",
       "      <td>0.604</td>\n",
       "      <td>0.651</td>\n",
       "      <td>73.099556</td>\n",
       "    </tr>\n",
       "    <tr>\n",
       "      <th>54</th>\n",
       "      <td>Reese's stuffed with pieces</td>\n",
       "      <td>1</td>\n",
       "      <td>0</td>\n",
       "      <td>0</td>\n",
       "      <td>1</td>\n",
       "      <td>0</td>\n",
       "      <td>0</td>\n",
       "      <td>0</td>\n",
       "      <td>0</td>\n",
       "      <td>0</td>\n",
       "      <td>0.988</td>\n",
       "      <td>0.651</td>\n",
       "      <td>72.887901</td>\n",
       "    </tr>\n",
       "    <tr>\n",
       "      <th>32</th>\n",
       "      <td>Peanut butter M&amp;M's</td>\n",
       "      <td>1</td>\n",
       "      <td>0</td>\n",
       "      <td>0</td>\n",
       "      <td>1</td>\n",
       "      <td>0</td>\n",
       "      <td>0</td>\n",
       "      <td>0</td>\n",
       "      <td>0</td>\n",
       "      <td>1</td>\n",
       "      <td>0.825</td>\n",
       "      <td>0.651</td>\n",
       "      <td>71.465050</td>\n",
       "    </tr>\n",
       "    <tr>\n",
       "      <th>42</th>\n",
       "      <td>Nestle Butterfinger</td>\n",
       "      <td>1</td>\n",
       "      <td>0</td>\n",
       "      <td>0</td>\n",
       "      <td>1</td>\n",
       "      <td>0</td>\n",
       "      <td>0</td>\n",
       "      <td>0</td>\n",
       "      <td>1</td>\n",
       "      <td>0</td>\n",
       "      <td>0.604</td>\n",
       "      <td>0.767</td>\n",
       "      <td>70.735641</td>\n",
       "    </tr>\n",
       "  </tbody>\n",
       "</table>\n",
       "</div>"
      ],
      "text/plain": [
       "                 competitorname  chocolate  fruity  caramel  peanutyalmondy  \\\n",
       "52    Reese's Peanut Butter cup          1       0        0               1   \n",
       "51           Reese's Miniatures          1       0        0               1   \n",
       "79                         Twix          1       0        1               0   \n",
       "28                      Kit Kat          1       0        0               0   \n",
       "64                     Snickers          1       0        1               1   \n",
       "53               Reese's pieces          1       0        0               1   \n",
       "36                    Milky Way          1       0        1               0   \n",
       "54  Reese's stuffed with pieces          1       0        0               1   \n",
       "32          Peanut butter M&M's          1       0        0               1   \n",
       "42          Nestle Butterfinger          1       0        0               1   \n",
       "\n",
       "    nougat  crispedricewafer  hard  bar  pluribus  sugarpercent  pricepercent  \\\n",
       "52       0                 0     0    0         0         0.720         0.651   \n",
       "51       0                 0     0    0         0         0.034         0.279   \n",
       "79       0                 1     0    1         0         0.546         0.906   \n",
       "28       0                 1     0    1         0         0.313         0.511   \n",
       "64       1                 0     0    1         0         0.546         0.651   \n",
       "53       0                 0     0    0         1         0.406         0.651   \n",
       "36       1                 0     0    1         0         0.604         0.651   \n",
       "54       0                 0     0    0         0         0.988         0.651   \n",
       "32       0                 0     0    0         1         0.825         0.651   \n",
       "42       0                 0     0    1         0         0.604         0.767   \n",
       "\n",
       "    winpercent  \n",
       "52   84.180290  \n",
       "51   81.866257  \n",
       "79   81.642914  \n",
       "28   76.768600  \n",
       "64   76.673782  \n",
       "53   73.434990  \n",
       "36   73.099556  \n",
       "54   72.887901  \n",
       "32   71.465050  \n",
       "42   70.735641  "
      ]
     },
     "execution_count": 21,
     "metadata": {},
     "output_type": "execute_result"
    }
   ],
   "source": [
    "# vergleich der Features mit Top(10) Süßigkeiten\n",
    "df.nlargest(10, \"winpercent\")"
   ]
  },
  {
   "cell_type": "markdown",
   "metadata": {},
   "source": [
    "# Vergleich statistischer Methoden\n",
    "\n",
    "Wir haben zwei Methoden verwendet, um die Beliebtheit von Süßigkeiten vorherzusagen: **Lineare Regression** und **Random Forest Regression**.\n",
    "\n",
    "### Ergebnisse der linearen Regression:\n",
    "- **Mittlerer quadratischer Fehler**: 160,9830\n",
    "- **R-Quadrat-Wert**: 0,1970\n",
    "\n",
    "### Ergebnisse der Random Forest Regression:\n",
    "- **Mittlerer quadratischer Fehler**: 142,0568\n",
    "- **R-Quadrat-Wert**: 0,2914\n",
    "\n",
    "Das **Random Forest**-Modell schnitt mit einem niedrigeren mittleren quadratischen Fehler und einem höheren R-Quadrat-Wert besser ab. Dies deutet darauf hin, dass die Beziehung zwischen Süßigkeiteneigenschaften und Beliebtheit komplex und nicht linear ist."
   ]
  },
  {
   "cell_type": "markdown",
   "metadata": {},
   "source": [
    "## Empfehlungen für eine neue Süßigkeitenmarke"
   ]
  },
  {
   "cell_type": "markdown",
   "metadata": {},
   "source": [
    "Based on the analysis, here are recommendations for creating a new sweet brand for Lidl:\n",
    "\n",
    "a. Focus on Chocolate: The strongest predictor of popularity is chocolate. Consider developing a chocolate-based candy as your primary option.\n",
    "\n",
    "b. Bar Format: Bar-shaped candies are positively correlated with popularity. A chocolate bar could be a good choice.\n",
    "\n",
    "c. Peanut or Almond Inclusion: Adding peanuts or almonds to the candy could increase its appeal, as this feature is positively correlated with popularity.\n",
    "\n",
    "d. Sugar and Price Balance: While sugar content and price are important factors, they're not the top predictors of popularity. Aim for a moderate sugar content and competitive pricing.\n",
    "\n",
    "e. Consider Texture: Crispy rice wafers have a slight positive correlation with popularity. You could incorporate this texture into your chocolate bar for added appeal.\n",
    "\n",
    "f. Avoid Certain Features: Steer clear of making the candy primarily fruity or hard, as these characteristics are negatively correlated with popularity.\n",
    "\n",
    "Proposed Concept: \"Lidl's Crispy Delight\"\n",
    "\n",
    "A chocolate bar with a crispy rice wafer core, featuring small pieces of almonds or peanuts throughout. The bar should be segmented for easy sharing (addressing the slight negative correlation with 'pluribus' or multiple pieces per package). Aim for a moderate sugar content and competitive pricing to balance taste and value.\n",
    "\n",
    "This concept combines the most popular features (chocolate, bar shape, nuts) with an appealing texture (crispy wafer) while avoiding less popular characteristics (fruity, hard). It also allows for flexibility in production and potential variations (e.g., dark chocolate version, seasonal nut changes) to expand the product line in the future."
   ]
  },
  {
   "cell_type": "markdown",
   "metadata": {},
   "source": [
    "Basierend auf der Analyse sind hier Empfehlungen für die Entwicklung einer neuen Süßigkeitenmarke für Lidl:\n",
    "\n",
    "a. Fokus auf Schokolade: Der stärkste Indikator für Beliebtheit ist Schokolade. Erwägen Sie die Entwicklung einer Süßigkeit auf Schokoladenbasis als Ihre primäre Option.\n",
    "\n",
    "b. Riegelformat: Riegelförmige Süßigkeiten korrelieren positiv mit Beliebtheit. Ein Schokoriegel könnte eine gute Wahl sein.\n",
    "\n",
    "c. Erdnuss- oder Mandelzusatz: Das Hinzufügen von Erdnüssen oder Mandeln zu den Süßigkeiten könnte ihre Attraktivität erhöhen, da diese Eigenschaft positiv mit Beliebtheit korreliert.\n",
    "\n",
    "d. Zucker- und Preisgleichgewicht: Obwohl Zuckergehalt und Preis wichtige Faktoren sind, sind sie nicht die wichtigsten Indikatoren für Beliebtheit. Streben Sie einen moderaten Zuckergehalt und wettbewerbsfähige Preise an.\n",
    "\n",
    "e. Berücksichtigen Sie die Textur: Knusprige Reiswaffeln haben eine leicht positive Korrelation mit Beliebtheit. Sie könnten diese Textur in Ihren Schokoriegel einarbeiten, um ihn attraktiver zu machen.\n",
    "\n",
    "f. Vermeiden Sie bestimmte Eigenschaften: Vermeiden Sie es, die Süßigkeiten hauptsächlich fruchtig oder hart zu machen, da diese Eigenschaften negativ mit Beliebtheit korrelieren.\n",
    "\n",
    "Vorgeschlagenes Konzept: „Lidls Knuspergenuss“\n",
    "\n",
    "Ein Schokoriegel mit einem Kern aus knuspriger Reiswaffel, der mit kleinen Mandel- oder Erdnussstückchen überzogen ist. Der Riegel sollte segmentiert sein, damit er leicht geteilt werden kann (um die leicht negative Korrelation mit „Pluribus“ oder mehreren Stücken pro Packung zu berücksichtigen). Streben Sie einen moderaten Zuckergehalt und einen wettbewerbsfähigen Preis an, um Geschmack und Wert in Einklang zu bringen.\n",
    "\n",
    "Dieses Konzept kombiniert die beliebtesten Eigenschaften (Schokolade, Riegelform, Nüsse) mit einer ansprechenden Textur (knusprige Waffel), während weniger beliebte Eigenschaften (fruchtig, hart) vermieden werden. Es ermöglicht auch Flexibilität bei der Produktion und mögliche Variationen (z. B. dunkle Schokoladenversion, saisonale Nusswechsel), um die Produktlinie in Zukunft zu erweitern."
   ]
  }
 ],
 "metadata": {
  "kernelspec": {
   "display_name": "base",
   "language": "python",
   "name": "python3"
  },
  "language_info": {
   "codemirror_mode": {
    "name": "ipython",
    "version": 3
   },
   "file_extension": ".py",
   "mimetype": "text/x-python",
   "name": "python",
   "nbconvert_exporter": "python",
   "pygments_lexer": "ipython3",
   "version": "3.11.7"
  },
  "orig_nbformat": 4
 },
 "nbformat": 4,
 "nbformat_minor": 2
}
